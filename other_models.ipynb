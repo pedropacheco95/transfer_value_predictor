{
 "cells": [
  {
   "cell_type": "code",
   "execution_count": 7,
   "metadata": {},
   "outputs": [],
   "source": [
    "from sklearn.ensemble import RandomForestRegressor\n",
    "from sklearn.metrics import mean_squared_error, mean_absolute_error, r2_score\n",
    "from sklearn.model_selection import train_test_split\n",
    "from sklearn.linear_model import LinearRegression\n",
    "import xgboost as xgb\n",
    "import pandas as pd"
   ]
  },
  {
   "cell_type": "code",
   "execution_count": 10,
   "metadata": {},
   "outputs": [],
   "source": [
    "output_df = pd.read_excel('xlsx/output.xlsx')\n",
    "target_column_name = 'Transfer Value'"
   ]
  },
  {
   "cell_type": "code",
   "execution_count": 32,
   "metadata": {},
   "outputs": [],
   "source": [
    "def random_forest_metrics(df, target_column_name):\n",
    "    \"\"\"\n",
    "    Trains a Random Forest Regressor on the given DataFrame and calculates MSE, MAE, and R2.\n",
    "\n",
    "    Parameters:\n",
    "    df (pd.DataFrame): The DataFrame containing the features and target variable.\n",
    "    target_column_name (str): The name of the target variable column.\n",
    "\n",
    "    Returns:\n",
    "    tuple: A tuple containing the MSE, MAE, and R2 values.\n",
    "    \"\"\"\n",
    "    # Splitting the data into features and target\n",
    "    X = df.drop(target_column_name, axis=1)\n",
    "    y = df[target_column_name]\n",
    "\n",
    "    # Splitting the dataset into training and testing sets\n",
    "    X_train, X_test, y_train, y_test = train_test_split(X, y, test_size=0.05, random_state=42)\n",
    "\n",
    "    # Creating and fitting the Random Forest model\n",
    "    model = RandomForestRegressor(random_state=42)\n",
    "    model.fit(X_train, y_train)\n",
    "\n",
    "    # Making predictions and calculating metrics\n",
    "    predictions = model.predict(X_test)\n",
    "    mse = mean_squared_error(y_test, predictions)\n",
    "    mae = mean_absolute_error(y_test, predictions)\n",
    "    r2 = r2_score(y_test, predictions)\n",
    "\n",
    "    return {'mse': mse, 'mae': mae, 'r2': r2}"
   ]
  },
  {
   "cell_type": "code",
   "execution_count": 33,
   "metadata": {},
   "outputs": [],
   "source": [
    "def multilinear_regression_metrics(df, target_column_name):\n",
    "    \"\"\"\n",
    "    Trains a Multilinear Regression model on the given DataFrame and calculates MSE, MAE, and R2.\n",
    "\n",
    "    Parameters:\n",
    "    df (pd.DataFrame): The DataFrame containing the features and target variable.\n",
    "    target_column_name (str): The name of the target variable column.\n",
    "\n",
    "    Returns:\n",
    "    tuple: A tuple containing the MSE, MAE, and R2 values.\n",
    "    \"\"\"\n",
    "    # Splitting the data into features and target\n",
    "    X = df.drop(target_column_name, axis=1)\n",
    "    y = df[target_column_name]\n",
    "\n",
    "    # Splitting the dataset into training and testing sets\n",
    "    X_train, X_test, y_train, y_test = train_test_split(X, y, test_size=0.05, random_state=42)\n",
    "\n",
    "    # Creating and fitting the Multilinear Regression model\n",
    "    model = LinearRegression()\n",
    "    model.fit(X_train, y_train)\n",
    "\n",
    "    # Making predictions and calculating metrics\n",
    "    predictions = model.predict(X_test)\n",
    "    mse = mean_squared_error(y_test, predictions)\n",
    "    mae = mean_absolute_error(y_test, predictions)\n",
    "    r2 = r2_score(y_test, predictions)\n",
    "\n",
    "    return {'mse': mse, 'mae': mae, 'r2': r2}"
   ]
  },
  {
   "cell_type": "code",
   "execution_count": 34,
   "metadata": {},
   "outputs": [],
   "source": [
    "def xgboost_metrics(df, target_column_name):\n",
    "    \"\"\"\n",
    "    Trains an XGBoost model on the given DataFrame and calculates MSE, MAE, and R2.\n",
    "\n",
    "    Parameters:\n",
    "    df (pd.DataFrame): The DataFrame containing the features and target variable.\n",
    "    target_column_name (str): The name of the target variable column.\n",
    "\n",
    "    Returns:\n",
    "    tuple: A tuple containing the MSE, MAE, and R2 values.\n",
    "    \"\"\"\n",
    "    # Splitting the data into features and target\n",
    "    X = df.drop(target_column_name, axis=1)\n",
    "    y = df[target_column_name]\n",
    "\n",
    "    # Splitting the dataset into training and testing sets\n",
    "    X_train, X_test, y_train, y_test = train_test_split(X, y, test_size=0.05, random_state=42)\n",
    "\n",
    "    # Creating and fitting the XGBoost model\n",
    "    model = xgb.XGBRegressor(objective ='reg:squarederror', random_state=42)\n",
    "    model.fit(X_train, y_train)\n",
    "\n",
    "    # Making predictions and calculating metrics\n",
    "    predictions = model.predict(X_test)\n",
    "    mse = mean_squared_error(y_test, predictions)\n",
    "    mae = mean_absolute_error(y_test, predictions)\n",
    "    r2 = r2_score(y_test, predictions)\n",
    "\n",
    "    return {'mse': mse, 'mae': mae, 'r2': r2}"
   ]
  },
  {
   "cell_type": "code",
   "execution_count": 29,
   "metadata": {},
   "outputs": [
    {
     "data": {
      "text/plain": [
       "{'mse': 19.242160976791993, 'mae': 1.3317373245407442, 'r2': 0.754616507122292}"
      ]
     },
     "execution_count": 29,
     "metadata": {},
     "output_type": "execute_result"
    }
   ],
   "source": [
    "random_forest_metrics(output_df, target_column_name)"
   ]
  },
  {
   "cell_type": "code",
   "execution_count": 30,
   "metadata": {},
   "outputs": [
    {
     "data": {
      "text/plain": [
       "{'mse': 30.070568865509827, 'mae': 2.470377795716926, 'r2': 0.5693206616861591}"
      ]
     },
     "execution_count": 30,
     "metadata": {},
     "output_type": "execute_result"
    }
   ],
   "source": [
    "multilinear_regression_metrics(output_df, target_column_name)"
   ]
  },
  {
   "cell_type": "code",
   "execution_count": 31,
   "metadata": {},
   "outputs": [
    {
     "data": {
      "text/plain": [
       "{'mse': 17.797995992915133,\n",
       " 'mae': 1.3561489146893535,\n",
       " 'r2': 0.7450919810721339}"
      ]
     },
     "execution_count": 31,
     "metadata": {},
     "output_type": "execute_result"
    }
   ],
   "source": [
    "xgboost_metrics(output_df, target_column_name)"
   ]
  },
  {
   "cell_type": "code",
   "execution_count": null,
   "metadata": {},
   "outputs": [],
   "source": []
  }
 ],
 "metadata": {
  "kernelspec": {
   "display_name": "Python 3",
   "language": "python",
   "name": "python3"
  },
  "language_info": {
   "codemirror_mode": {
    "name": "ipython",
    "version": 3
   },
   "file_extension": ".py",
   "mimetype": "text/x-python",
   "name": "python",
   "nbconvert_exporter": "python",
   "pygments_lexer": "ipython3",
   "version": "3.11.3"
  },
  "orig_nbformat": 4
 },
 "nbformat": 4,
 "nbformat_minor": 2
}
