{
 "cells": [
  {
   "cell_type": "code",
   "execution_count": 104,
   "metadata": {},
   "outputs": [],
   "source": [
    "import pandas as pd\n",
    "from model import FNNAM\n",
    "import tensorflow as tf\n",
    "from sklearn.metrics import mean_squared_error, r2_score, mean_absolute_error\n",
    "import numpy as np\n",
    "from itertools import combinations"
   ]
  },
  {
   "cell_type": "code",
   "execution_count": 130,
   "metadata": {},
   "outputs": [],
   "source": [
    "# Read the data from an Excel file\n",
    "original_df = pd.read_excel('xlsx/original.xlsx')\n",
    "output_df = pd.read_excel('xlsx/output.xlsx')\n",
    "model = FNNAM()\n",
    "model.model = tf.keras.models.load_model('fnnam.keras')"
   ]
  },
  {
   "cell_type": "code",
   "execution_count": 131,
   "metadata": {},
   "outputs": [
    {
     "name": "stdout",
     "output_type": "stream",
     "text": [
      "443/443 [==============================] - 0s 487us/step\n"
     ]
    }
   ],
   "source": [
    "prediction_df = model.add_prediction_column(output_df,'Transfer Value')\n",
    "prediction_df['Percentage Difference'] = ((prediction_df['Predictions'] - prediction_df['Transfer Value']) / prediction_df['Transfer Value']) * 100\n",
    "prediction_df['Percentage Difference'] = np.where(\n",
    "    prediction_df['Transfer Value'] != 0,\n",
    "    ((prediction_df['Predictions'] - prediction_df['Transfer Value']) / prediction_df['Transfer Value']) * 100,\n",
    "    0 \n",
    ")\n",
    "prediction_df = prediction_df.drop_duplicates()"
   ]
  },
  {
   "cell_type": "code",
   "execution_count": 107,
   "metadata": {},
   "outputs": [
    {
     "data": {
      "text/plain": [
       "0.8334589061903116"
      ]
     },
     "execution_count": 107,
     "metadata": {},
     "output_type": "execute_result"
    }
   ],
   "source": [
    "r2_score(prediction_df['Transfer Value'], prediction_df['Predictions'])"
   ]
  },
  {
   "cell_type": "code",
   "execution_count": 21,
   "metadata": {},
   "outputs": [],
   "source": [
    "prediction_df.to_excel('xlsx/predictions.xlsx', index=False)"
   ]
  },
  {
   "cell_type": "code",
   "execution_count": null,
   "metadata": {},
   "outputs": [],
   "source": []
  }
 ],
 "metadata": {
  "kernelspec": {
   "display_name": "Python 3",
   "language": "python",
   "name": "python3"
  },
  "language_info": {
   "codemirror_mode": {
    "name": "ipython",
    "version": 3
   },
   "file_extension": ".py",
   "mimetype": "text/x-python",
   "name": "python",
   "nbconvert_exporter": "python",
   "pygments_lexer": "ipython3",
   "version": "3.11.3"
  },
  "orig_nbformat": 4
 },
 "nbformat": 4,
 "nbformat_minor": 2
}
